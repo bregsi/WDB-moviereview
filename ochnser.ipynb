{
 "cells": [
  {
   "cell_type": "code",
   "execution_count": 1,
   "metadata": {},
   "outputs": [],
   "source": [
    "#!pip install selenium\n",
    "#!pip install webdriver_manager\n",
    "from selenium import webdriver\n",
    "\n",
    "from selenium.webdriver.chrome.service import Service\n",
    "\n",
    "from selenium.webdriver.support.ui import WebDriverWait\n",
    "\n",
    "from selenium.webdriver.support import expected_conditions as EC\n",
    "from selenium.webdriver.chrome.options import Options\n",
    "from selenium.webdriver.common.by import By\n",
    "\n",
    "from bs4 import BeautifulSoup\n",
    "\n",
    "import codecs\n",
    "from selenium.webdriver.common.keys import Keys\n",
    "import re\n",
    "\n",
    "from webdriver_manager.chrome import ChromeDriverManager\n",
    "from selenium.webdriver.support.ui import Select"
   ]
  },
  {
   "cell_type": "code",
   "execution_count": 2,
   "metadata": {},
   "outputs": [],
   "source": [
    "val = 'https://www.ochsnersport.ch/de/shop/herren-schuhe-00015643-c.html'\n",
    "driver = webdriver.Chrome()\n",
    "driver.get(val)"
   ]
  },
  {
   "cell_type": "code",
   "execution_count": 3,
   "metadata": {},
   "outputs": [],
   "source": [
    "select = Select(driver.find_element(By.XPATH, '//*[@id=\"pageSizeSelectorTop_pageSizeSelector\"]'))\n",
    "select.select_by_visible_text('24')"
   ]
  },
  {
   "cell_type": "code",
   "execution_count": 4,
   "metadata": {},
   "outputs": [],
   "source": [
    "driver.find_element(By.TAG_NAME,'body').send_keys(Keys.END)"
   ]
  },
  {
   "cell_type": "code",
   "execution_count": 5,
   "metadata": {},
   "outputs": [],
   "source": [
    "element = driver.find_element(By.XPATH,\"//div[@data-v-1c9eb736]\")"
   ]
  },
  {
   "cell_type": "code",
   "execution_count": 8,
   "metadata": {},
   "outputs": [
    {
     "ename": "NoSuchElementException",
     "evalue": "Message: no such element: Unable to locate element: {\"method\":\"xpath\",\"selector\":\"//div[@section-layout]\"}\n  (Session info: chrome=110.0.5481.178)\nStacktrace:\nBacktrace:\n\t(No symbol) [0x005637D3]\n\t(No symbol) [0x004F8B81]\n\t(No symbol) [0x003FB36D]\n\t(No symbol) [0x0042D382]\n\t(No symbol) [0x0042D4BB]\n\t(No symbol) [0x00463302]\n\t(No symbol) [0x0044B464]\n\t(No symbol) [0x00461215]\n\t(No symbol) [0x0044B216]\n\t(No symbol) [0x00420D97]\n\t(No symbol) [0x0042253D]\n\tGetHandleVerifier [0x007DABF2+2510930]\n\tGetHandleVerifier [0x00808EC1+2700065]\n\tGetHandleVerifier [0x0080C86C+2714828]\n\tGetHandleVerifier [0x00613480+645344]\n\t(No symbol) [0x00500FD2]\n\t(No symbol) [0x00506C68]\n\t(No symbol) [0x00506D4B]\n\t(No symbol) [0x00510D6B]\n\tBaseThreadInitThunk [0x770B00F9+25]\n\tRtlGetAppContainerNamedObjectPath [0x77C07BBE+286]\n\tRtlGetAppContainerNamedObjectPath [0x77C07B8E+238]\n",
     "output_type": "error",
     "traceback": [
      "\u001B[1;31m---------------------------------------------------------------------------\u001B[0m",
      "\u001B[1;31mNoSuchElementException\u001B[0m                    Traceback (most recent call last)",
      "\u001B[1;32mc:\\Users\\David Dedic\\OneDrive - FHNW\\Semester 4\\wdb\\ochnser.ipynb Cell 6\u001B[0m in \u001B[0;36m1\n\u001B[1;32m----> <a href='vscode-notebook-cell:/c%3A/Users/David%20Dedic/OneDrive%20-%20FHNW/Semester%204/wdb/ochnser.ipynb#W5sZmlsZQ%3D%3D?line=0'>1</a>\u001B[0m sec \u001B[39m=\u001B[39m driver\u001B[39m.\u001B[39;49mfind_element(By\u001B[39m.\u001B[39;49mXPATH,\u001B[39m\"\u001B[39;49m\u001B[39m//div[@section-layout]\u001B[39;49m\u001B[39m\"\u001B[39;49m)\n",
      "File \u001B[1;32m~\\AppData\\Roaming\\Python\\Python39\\site-packages\\selenium\\webdriver\\remote\\webdriver.py:830\u001B[0m, in \u001B[0;36mWebDriver.find_element\u001B[1;34m(self, by, value)\u001B[0m\n\u001B[0;32m    827\u001B[0m     by \u001B[39m=\u001B[39m By\u001B[39m.\u001B[39mCSS_SELECTOR\n\u001B[0;32m    828\u001B[0m     value \u001B[39m=\u001B[39m \u001B[39mf\u001B[39m\u001B[39m'\u001B[39m\u001B[39m[name=\u001B[39m\u001B[39m\"\u001B[39m\u001B[39m{\u001B[39;00mvalue\u001B[39m}\u001B[39;00m\u001B[39m\"\u001B[39m\u001B[39m]\u001B[39m\u001B[39m'\u001B[39m\n\u001B[1;32m--> 830\u001B[0m \u001B[39mreturn\u001B[39;00m \u001B[39mself\u001B[39;49m\u001B[39m.\u001B[39;49mexecute(Command\u001B[39m.\u001B[39;49mFIND_ELEMENT, {\u001B[39m\"\u001B[39;49m\u001B[39musing\u001B[39;49m\u001B[39m\"\u001B[39;49m: by, \u001B[39m\"\u001B[39;49m\u001B[39mvalue\u001B[39;49m\u001B[39m\"\u001B[39;49m: value})[\u001B[39m\"\u001B[39m\u001B[39mvalue\u001B[39m\u001B[39m\"\u001B[39m]\n",
      "File \u001B[1;32m~\\AppData\\Roaming\\Python\\Python39\\site-packages\\selenium\\webdriver\\remote\\webdriver.py:440\u001B[0m, in \u001B[0;36mWebDriver.execute\u001B[1;34m(self, driver_command, params)\u001B[0m\n\u001B[0;32m    438\u001B[0m response \u001B[39m=\u001B[39m \u001B[39mself\u001B[39m\u001B[39m.\u001B[39mcommand_executor\u001B[39m.\u001B[39mexecute(driver_command, params)\n\u001B[0;32m    439\u001B[0m \u001B[39mif\u001B[39;00m response:\n\u001B[1;32m--> 440\u001B[0m     \u001B[39mself\u001B[39;49m\u001B[39m.\u001B[39;49merror_handler\u001B[39m.\u001B[39;49mcheck_response(response)\n\u001B[0;32m    441\u001B[0m     response[\u001B[39m\"\u001B[39m\u001B[39mvalue\u001B[39m\u001B[39m\"\u001B[39m] \u001B[39m=\u001B[39m \u001B[39mself\u001B[39m\u001B[39m.\u001B[39m_unwrap_value(response\u001B[39m.\u001B[39mget(\u001B[39m\"\u001B[39m\u001B[39mvalue\u001B[39m\u001B[39m\"\u001B[39m, \u001B[39mNone\u001B[39;00m))\n\u001B[0;32m    442\u001B[0m     \u001B[39mreturn\u001B[39;00m response\n",
      "File \u001B[1;32m~\\AppData\\Roaming\\Python\\Python39\\site-packages\\selenium\\webdriver\\remote\\errorhandler.py:245\u001B[0m, in \u001B[0;36mErrorHandler.check_response\u001B[1;34m(self, response)\u001B[0m\n\u001B[0;32m    243\u001B[0m         alert_text \u001B[39m=\u001B[39m value[\u001B[39m\"\u001B[39m\u001B[39malert\u001B[39m\u001B[39m\"\u001B[39m]\u001B[39m.\u001B[39mget(\u001B[39m\"\u001B[39m\u001B[39mtext\u001B[39m\u001B[39m\"\u001B[39m)\n\u001B[0;32m    244\u001B[0m     \u001B[39mraise\u001B[39;00m exception_class(message, screen, stacktrace, alert_text)  \u001B[39m# type: ignore[call-arg]  # mypy is not smart enough here\u001B[39;00m\n\u001B[1;32m--> 245\u001B[0m \u001B[39mraise\u001B[39;00m exception_class(message, screen, stacktrace)\n",
      "\u001B[1;31mNoSuchElementException\u001B[0m: Message: no such element: Unable to locate element: {\"method\":\"xpath\",\"selector\":\"//div[@section-layout]\"}\n  (Session info: chrome=110.0.5481.178)\nStacktrace:\nBacktrace:\n\t(No symbol) [0x005637D3]\n\t(No symbol) [0x004F8B81]\n\t(No symbol) [0x003FB36D]\n\t(No symbol) [0x0042D382]\n\t(No symbol) [0x0042D4BB]\n\t(No symbol) [0x00463302]\n\t(No symbol) [0x0044B464]\n\t(No symbol) [0x00461215]\n\t(No symbol) [0x0044B216]\n\t(No symbol) [0x00420D97]\n\t(No symbol) [0x0042253D]\n\tGetHandleVerifier [0x007DABF2+2510930]\n\tGetHandleVerifier [0x00808EC1+2700065]\n\tGetHandleVerifier [0x0080C86C+2714828]\n\tGetHandleVerifier [0x00613480+645344]\n\t(No symbol) [0x00500FD2]\n\t(No symbol) [0x00506C68]\n\t(No symbol) [0x00506D4B]\n\t(No symbol) [0x00510D6B]\n\tBaseThreadInitThunk [0x770B00F9+25]\n\tRtlGetAppContainerNamedObjectPath [0x77C07BBE+286]\n\tRtlGetAppContainerNamedObjectPath [0x77C07B8E+238]\n"
     ]
    }
   ],
   "source": [
    "sec = driver.find_element(By.XPATH,\"//div[@section-layout]\")\n"
   ]
  },
  {
   "cell_type": "code",
   "execution_count": 7,
   "metadata": {},
   "outputs": [
    {
     "ename": "NameError",
     "evalue": "name 'sec' is not defined",
     "output_type": "error",
     "traceback": [
      "\u001B[1;31m---------------------------------------------------------------------------\u001B[0m",
      "\u001B[1;31mNameError\u001B[0m                                 Traceback (most recent call last)",
      "\u001B[1;32mc:\\Users\\David Dedic\\OneDrive - FHNW\\Semester 4\\wdb\\ochnser.ipynb Cell 7\u001B[0m in \u001B[0;36m1\n\u001B[1;32m----> <a href='vscode-notebook-cell:/c%3A/Users/David%20Dedic/OneDrive%20-%20FHNW/Semester%204/wdb/ochnser.ipynb#W6sZmlsZQ%3D%3D?line=0'>1</a>\u001B[0m \u001B[39mfor\u001B[39;00m x \u001B[39min\u001B[39;00m sec\u001B[39m.\u001B[39mfind_elements(By\u001B[39m.\u001B[39mXPATH, \u001B[39m'\u001B[39m\u001B[39m//*[@data-id=\u001B[39m\u001B[39m\"\u001B[39m\u001B[39mbrand-name\u001B[39m\u001B[39m\"\u001B[39m\u001B[39m]\u001B[39m\u001B[39m'\u001B[39m):\n\u001B[0;32m      <a href='vscode-notebook-cell:/c%3A/Users/David%20Dedic/OneDrive%20-%20FHNW/Semester%204/wdb/ochnser.ipynb#W6sZmlsZQ%3D%3D?line=1'>2</a>\u001B[0m     \u001B[39mprint\u001B[39m(x\u001B[39m.\u001B[39mtext)\n",
      "\u001B[1;31mNameError\u001B[0m: name 'sec' is not defined"
     ]
    }
   ],
   "source": [
    "for x in sec.find_elements(By.XPATH, '//*[@data-id=\"brand-name\"]'):\n",
    "    print(x.text)"
   ]
  },
  {
   "cell_type": "code",
   "execution_count": 206,
   "metadata": {},
   "outputs": [
    {
     "name": "stdout",
     "output_type": "stream",
     "text": [
      "Nike\n",
      "Nike\n",
      "ASICS\n",
      "ASICS\n",
      "adidas Performance\n",
      "Nike\n",
      "Nike\n",
      "Nike\n",
      "Nike\n",
      "Nike\n",
      "Nike\n",
      "Nike\n",
      "Nike\n",
      "Nike\n",
      "Nike\n",
      "BROOKS\n",
      "Salomon\n",
      "adidas Performance\n",
      "Nike\n",
      "adidas Performance\n",
      "adidas Performance\n",
      "ASICS\n",
      "Salomon\n",
      "Salomon\n",
      "ON\n",
      "Nike\n",
      "\n",
      "ON\n",
      "\n",
      "\n",
      "\n"
     ]
    }
   ],
   "source": [
    "for x in element.find_elements(By.XPATH, '//*[@data-id=\"brand-name\"]'):\n",
    "    print(x.text)"
   ]
  }
 ],
 "metadata": {
  "kernelspec": {
   "display_name": "Python 3",
   "language": "python",
   "name": "python3"
  },
  "language_info": {
   "codemirror_mode": {
    "name": "ipython",
    "version": 3
   },
   "file_extension": ".py",
   "mimetype": "text/x-python",
   "name": "python",
   "nbconvert_exporter": "python",
   "pygments_lexer": "ipython3",
   "version": "3.9.7"
  },
  "orig_nbformat": 4,
  "vscode": {
   "interpreter": {
    "hash": "11938c6bc6919ae2720b4d5011047913343b08a43b18698fd82dedb0d4417594"
   }
  }
 },
 "nbformat": 4,
 "nbformat_minor": 2
}
