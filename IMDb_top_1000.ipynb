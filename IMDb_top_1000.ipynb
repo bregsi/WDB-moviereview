{
 "cells": [
  {
   "cell_type": "code",
   "execution_count": 9,
   "metadata": {
    "collapsed": true
   },
   "outputs": [],
   "source": [
    "#!pip install selenium\n",
    "#!pip install webdriver_manager\n",
    "from selenium import webdriver\n",
    "\n",
    "from selenium.webdriver.chrome.service import Service\n",
    "\n",
    "from selenium.webdriver.support.ui import WebDriverWait\n",
    "\n",
    "from selenium.webdriver.support import expected_conditions as EC\n",
    "from selenium.webdriver.chrome.options import Options\n",
    "from selenium.webdriver.common.by import By\n",
    "\n",
    "from bs4 import BeautifulSoup\n",
    "\n",
    "import codecs\n",
    "from selenium.webdriver.common.keys import Keys\n",
    "import re\n",
    "\n",
    "from webdriver_manager.chrome import ChromeDriverManager\n",
    "from selenium.webdriver.support.ui import Select"
   ]
  },
  {
   "cell_type": "code",
   "execution_count": 10,
   "outputs": [
    {
     "name": "stderr",
     "output_type": "stream",
     "text": [
      "C:\\Users\\olive\\AppData\\Local\\Temp\\ipykernel_24020\\2955384389.py:3: DeprecationWarning: executable_path has been deprecated, please pass in a Service object\n",
      "  driver = webdriver.Chrome(path)\n"
     ]
    }
   ],
   "source": [
    "website = 'https://www.imdb.com/search/title/?count=100&groups=top_1000&sort=user_rating'\n",
    "path = 'C:/Users/olive/Downloads/chromedriver'\n",
    "driver = webdriver.Chrome(path)\n",
    "driver.get(website)"
   ],
   "metadata": {
    "collapsed": false
   }
  },
  {
   "cell_type": "code",
   "execution_count": 12,
   "outputs": [
    {
     "ename": "UnexpectedTagNameException",
     "evalue": "Message: Select only works on <select> elements, not on a\n",
     "output_type": "error",
     "traceback": [
      "\u001B[1;31m---------------------------------------------------------------------------\u001B[0m",
      "\u001B[1;31mUnexpectedTagNameException\u001B[0m                Traceback (most recent call last)",
      "Cell \u001B[1;32mIn[12], line 1\u001B[0m\n\u001B[1;32m----> 1\u001B[0m first_shoe \u001B[38;5;241m=\u001B[39m \u001B[43mSelect\u001B[49m\u001B[43m(\u001B[49m\u001B[43mdriver\u001B[49m\u001B[38;5;241;43m.\u001B[39;49m\u001B[43mfind_element\u001B[49m\u001B[43m(\u001B[49m\u001B[43mBy\u001B[49m\u001B[38;5;241;43m.\u001B[39;49m\u001B[43mXPATH\u001B[49m\u001B[43m,\u001B[49m\u001B[43m \u001B[49m\u001B[38;5;124;43m'\u001B[39;49m\u001B[38;5;124;43m//a[@href=\u001B[39;49m\u001B[38;5;124;43m\"\u001B[39;49m\u001B[38;5;124;43m/de/shop/nike-zoom-rival-distance-nagelschuh-schwarz-weiss-00002002253622-p.html\u001B[39;49m\u001B[38;5;124;43m\"\u001B[39;49m\u001B[38;5;124;43m]\u001B[39;49m\u001B[38;5;124;43m'\u001B[39;49m\u001B[43m)\u001B[49m\u001B[43m)\u001B[49m\n\u001B[0;32m      2\u001B[0m first_shoe\u001B[38;5;241m.\u001B[39mclick()\n",
      "File \u001B[1;32mC:\\dev\\wdb\\WDB\\venv\\lib\\site-packages\\selenium\\webdriver\\support\\select.py:36\u001B[0m, in \u001B[0;36mSelect.__init__\u001B[1;34m(self, webelement)\u001B[0m\n\u001B[0;32m     25\u001B[0m \u001B[38;5;250m\u001B[39m\u001B[38;5;124;03m\"\"\"Constructor. A check is made that the given element is, indeed, a\u001B[39;00m\n\u001B[0;32m     26\u001B[0m \u001B[38;5;124;03mSELECT tag. If it is not, then an UnexpectedTagNameException is thrown.\u001B[39;00m\n\u001B[0;32m     27\u001B[0m \n\u001B[1;32m   (...)\u001B[0m\n\u001B[0;32m     33\u001B[0m \u001B[38;5;124;03m    Select(driver.find_element(By.TAG_NAME, \"select\")).select_by_index(2)\u001B[39;00m\n\u001B[0;32m     34\u001B[0m \u001B[38;5;124;03m\"\"\"\u001B[39;00m\n\u001B[0;32m     35\u001B[0m \u001B[38;5;28;01mif\u001B[39;00m webelement\u001B[38;5;241m.\u001B[39mtag_name\u001B[38;5;241m.\u001B[39mlower() \u001B[38;5;241m!=\u001B[39m \u001B[38;5;124m\"\u001B[39m\u001B[38;5;124mselect\u001B[39m\u001B[38;5;124m\"\u001B[39m:\n\u001B[1;32m---> 36\u001B[0m     \u001B[38;5;28;01mraise\u001B[39;00m UnexpectedTagNameException(\u001B[38;5;124mf\u001B[39m\u001B[38;5;124m\"\u001B[39m\u001B[38;5;124mSelect only works on <select> elements, not on \u001B[39m\u001B[38;5;132;01m{\u001B[39;00mwebelement\u001B[38;5;241m.\u001B[39mtag_name\u001B[38;5;132;01m}\u001B[39;00m\u001B[38;5;124m\"\u001B[39m)\n\u001B[0;32m     37\u001B[0m \u001B[38;5;28mself\u001B[39m\u001B[38;5;241m.\u001B[39m_el \u001B[38;5;241m=\u001B[39m webelement\n\u001B[0;32m     38\u001B[0m multi \u001B[38;5;241m=\u001B[39m \u001B[38;5;28mself\u001B[39m\u001B[38;5;241m.\u001B[39m_el\u001B[38;5;241m.\u001B[39mget_dom_attribute(\u001B[38;5;124m\"\u001B[39m\u001B[38;5;124mmultiple\u001B[39m\u001B[38;5;124m\"\u001B[39m)\n",
      "\u001B[1;31mUnexpectedTagNameException\u001B[0m: Message: Select only works on <select> elements, not on a\n"
     ]
    }
   ],
   "source": [
    "driver.find_elements_by_tag_name('h3')"
   ],
   "metadata": {
    "collapsed": false
   }
  },
  {
   "cell_type": "code",
   "execution_count": null,
   "outputs": [],
   "source": [
    "driver.quit()"
   ],
   "metadata": {
    "collapsed": false
   }
  }
 ],
 "metadata": {
  "kernelspec": {
   "display_name": "Python 3",
   "language": "python",
   "name": "python3"
  },
  "language_info": {
   "codemirror_mode": {
    "name": "ipython",
    "version": 2
   },
   "file_extension": ".py",
   "mimetype": "text/x-python",
   "name": "python",
   "nbconvert_exporter": "python",
   "pygments_lexer": "ipython2",
   "version": "2.7.6"
  }
 },
 "nbformat": 4,
 "nbformat_minor": 0
}
