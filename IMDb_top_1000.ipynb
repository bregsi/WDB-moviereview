{
 "cells": [
  {
   "cell_type": "code",
   "execution_count": 26,
   "metadata": {
    "collapsed": true
   },
   "outputs": [],
   "source": [
    "#!pip install selenium\n",
    "#!pip install webdriver_manager\n",
    "from selenium import webdriver\n",
    "\n",
    "import os\n",
    "from selenium.webdriver.chrome.service import Service\n",
    "\n",
    "from selenium.webdriver.support.ui import WebDriverWait\n",
    "\n",
    "from selenium.webdriver.support import expected_conditions as EC\n",
    "from selenium.webdriver.chrome.options import Options\n",
    "from selenium.webdriver.common.by import By\n",
    "\n",
    "from bs4 import BeautifulSoup\n",
    "\n",
    "import codecs\n",
    "from selenium.webdriver.common.keys import Keys\n",
    "import re\n",
    "\n",
    "from webdriver_manager.chrome import ChromeDriverManager\n",
    "from selenium.webdriver.support.ui import Select"
   ]
  },
  {
   "cell_type": "code",
   "execution_count": 27,
   "metadata": {
    "collapsed": false
   },
   "outputs": [],
   "source": [
    "website = 'https://www.imdb.com/search/title/?count=100&groups=top_1000&sort=user_rating'\n",
    "driver = webdriver.Chrome()\n",
    "driver.get(website)"
   ]
  },
  {
   "cell_type": "code",
   "execution_count": 28,
   "metadata": {
    "collapsed": false
   },
   "outputs": [
    {
     "data": {
      "text/plain": "       rang                                               film    jahr  fsk   \n0        1.                                [Die, Verurteilten]  (1994)  12   \\\n1        2.                                        [Der, Pate]  (1972)  16    \n2        3.                                [The, Dark, Knight]  (2008)  16    \n3        4.                                [Schindlers, Liste]  (1993)  12    \n4        5.  [Der, Herr, der, Ringe:, Die, Rückkehr, des, K...  (2003)  12    \n..      ...                                                ...     ...  ...   \n995    996.                                          [Control]  (2007)  12    \n996    997.     [Philomena:, Eine, Mutter, sucht, ihren, Sohn]  (2013)   6    \n997    998.                   [Shine, -, Der, Weg, ins, Licht]  (1996)  12    \n998    999.                                 [Der, Unsichtbare]  (1933)  16    \n999  1.000.                [Zelle, 211, -, Der, Knastaufstand]  (2009)  16    \n\n         dauer                       genre bewertung             regisseur   \n0     142 min                        Drama       9,3        Frank Darabont  \\\n1     175 min                 Crime, Drama       9,2  Francis Ford Coppola   \n2     152 min         Action, Crime, Drama       9,0     Christopher Nolan   \n3     195 min    Biography, Drama, History       9,0      Steven Spielberg   \n4     201 min     Action, Adventure, Drama       9,0         Peter Jackson   \n..         ...                         ...       ...                   ...   \n995   122 min      Biography, Drama, Music       7,6         Anton Corbijn   \n996    98 min     Biography, Comedy, Drama       7,6        Stephen Frears   \n997   105 min      Biography, Drama, Music       7,6           Scott Hicks   \n998    71 min               Horror, Sci-Fi       7,6           James Whale   \n999   113 min     Action, Adventure, Crime       7,6         Daniel Monzón   \n\n                                                 stars  \n0    Tim Robbins, Morgan Freeman, Bob Gunton, Willi...  \n1    Marlon Brando, Al Pacino, James Caan, Diane Ke...  \n2    Christian Bale, Heath Ledger, Aaron Eckhart, M...  \n3    Liam Neeson, Ralph Fiennes, Ben Kingsley, Caro...  \n4    Elijah Wood, Viggo Mortensen, Ian McKellen, Or...  \n..                                                 ...  \n995  Sam Riley, Samantha Morton, Craig Parkinson, A...  \n996  Judi Dench, Steve Coogan, Sophie Kennedy Clark...  \n997  Geoffrey Rush, Armin Mueller-Stahl, Justin Bra...  \n998  Claude Rains, Gloria Stuart, William Harrigan,...  \n999  Luis Tosar, Alberto Ammann, Antonio Resines, M...  \n\n[1000 rows x 9 columns]",
      "text/html": "<div>\n<style scoped>\n    .dataframe tbody tr th:only-of-type {\n        vertical-align: middle;\n    }\n\n    .dataframe tbody tr th {\n        vertical-align: top;\n    }\n\n    .dataframe thead th {\n        text-align: right;\n    }\n</style>\n<table border=\"1\" class=\"dataframe\">\n  <thead>\n    <tr style=\"text-align: right;\">\n      <th></th>\n      <th>rang</th>\n      <th>film</th>\n      <th>jahr</th>\n      <th>fsk</th>\n      <th>dauer</th>\n      <th>genre</th>\n      <th>bewertung</th>\n      <th>regisseur</th>\n      <th>stars</th>\n    </tr>\n  </thead>\n  <tbody>\n    <tr>\n      <th>0</th>\n      <td>1.</td>\n      <td>[Die, Verurteilten]</td>\n      <td>(1994)</td>\n      <td>12</td>\n      <td>142 min</td>\n      <td>Drama</td>\n      <td>9,3</td>\n      <td>Frank Darabont</td>\n      <td>Tim Robbins, Morgan Freeman, Bob Gunton, Willi...</td>\n    </tr>\n    <tr>\n      <th>1</th>\n      <td>2.</td>\n      <td>[Der, Pate]</td>\n      <td>(1972)</td>\n      <td>16</td>\n      <td>175 min</td>\n      <td>Crime, Drama</td>\n      <td>9,2</td>\n      <td>Francis Ford Coppola</td>\n      <td>Marlon Brando, Al Pacino, James Caan, Diane Ke...</td>\n    </tr>\n    <tr>\n      <th>2</th>\n      <td>3.</td>\n      <td>[The, Dark, Knight]</td>\n      <td>(2008)</td>\n      <td>16</td>\n      <td>152 min</td>\n      <td>Action, Crime, Drama</td>\n      <td>9,0</td>\n      <td>Christopher Nolan</td>\n      <td>Christian Bale, Heath Ledger, Aaron Eckhart, M...</td>\n    </tr>\n    <tr>\n      <th>3</th>\n      <td>4.</td>\n      <td>[Schindlers, Liste]</td>\n      <td>(1993)</td>\n      <td>12</td>\n      <td>195 min</td>\n      <td>Biography, Drama, History</td>\n      <td>9,0</td>\n      <td>Steven Spielberg</td>\n      <td>Liam Neeson, Ralph Fiennes, Ben Kingsley, Caro...</td>\n    </tr>\n    <tr>\n      <th>4</th>\n      <td>5.</td>\n      <td>[Der, Herr, der, Ringe:, Die, Rückkehr, des, K...</td>\n      <td>(2003)</td>\n      <td>12</td>\n      <td>201 min</td>\n      <td>Action, Adventure, Drama</td>\n      <td>9,0</td>\n      <td>Peter Jackson</td>\n      <td>Elijah Wood, Viggo Mortensen, Ian McKellen, Or...</td>\n    </tr>\n    <tr>\n      <th>...</th>\n      <td>...</td>\n      <td>...</td>\n      <td>...</td>\n      <td>...</td>\n      <td>...</td>\n      <td>...</td>\n      <td>...</td>\n      <td>...</td>\n      <td>...</td>\n    </tr>\n    <tr>\n      <th>995</th>\n      <td>996.</td>\n      <td>[Control]</td>\n      <td>(2007)</td>\n      <td>12</td>\n      <td>122 min</td>\n      <td>Biography, Drama, Music</td>\n      <td>7,6</td>\n      <td>Anton Corbijn</td>\n      <td>Sam Riley, Samantha Morton, Craig Parkinson, A...</td>\n    </tr>\n    <tr>\n      <th>996</th>\n      <td>997.</td>\n      <td>[Philomena:, Eine, Mutter, sucht, ihren, Sohn]</td>\n      <td>(2013)</td>\n      <td>6</td>\n      <td>98 min</td>\n      <td>Biography, Comedy, Drama</td>\n      <td>7,6</td>\n      <td>Stephen Frears</td>\n      <td>Judi Dench, Steve Coogan, Sophie Kennedy Clark...</td>\n    </tr>\n    <tr>\n      <th>997</th>\n      <td>998.</td>\n      <td>[Shine, -, Der, Weg, ins, Licht]</td>\n      <td>(1996)</td>\n      <td>12</td>\n      <td>105 min</td>\n      <td>Biography, Drama, Music</td>\n      <td>7,6</td>\n      <td>Scott Hicks</td>\n      <td>Geoffrey Rush, Armin Mueller-Stahl, Justin Bra...</td>\n    </tr>\n    <tr>\n      <th>998</th>\n      <td>999.</td>\n      <td>[Der, Unsichtbare]</td>\n      <td>(1933)</td>\n      <td>16</td>\n      <td>71 min</td>\n      <td>Horror, Sci-Fi</td>\n      <td>7,6</td>\n      <td>James Whale</td>\n      <td>Claude Rains, Gloria Stuart, William Harrigan,...</td>\n    </tr>\n    <tr>\n      <th>999</th>\n      <td>1.000.</td>\n      <td>[Zelle, 211, -, Der, Knastaufstand]</td>\n      <td>(2009)</td>\n      <td>16</td>\n      <td>113 min</td>\n      <td>Action, Adventure, Crime</td>\n      <td>7,6</td>\n      <td>Daniel Monzón</td>\n      <td>Luis Tosar, Alberto Ammann, Antonio Resines, M...</td>\n    </tr>\n  </tbody>\n</table>\n<p>1000 rows × 9 columns</p>\n</div>"
     },
     "execution_count": 28,
     "metadata": {},
     "output_type": "execute_result"
    }
   ],
   "source": [
    "next_page = driver.find_element(By.LINK_TEXT, 'Next »')\n",
    "for x in driver.find_elements(By.XPATH,'//*[@id=\"main\"]/div/div[4]/span[1]'):\n",
    "    end = int(x.text.split(' ')[2].replace(',',''))\n",
    "rang = []\n",
    "film = []\n",
    "jahr = []\n",
    "fsk = []\n",
    "dauer = []\n",
    "genre = []\n",
    "bewertung = []\n",
    "regisseur = []\n",
    "stars = []\n",
    "\n",
    "while next_page:\n",
    "    headers = driver.find_elements(By.TAG_NAME, 'h3')\n",
    "    for head in headers:\n",
    "        rang.append(head.text.split(' ')[0])\n",
    "        jahr.append(head.text.split(' ')[-1])\n",
    "        film.append(head.text.split(' ')[1:-1])\n",
    "    rang = rang[:-1]\n",
    "    jahr = jahr[:-1]\n",
    "    film = film[:-1]\n",
    "\n",
    "    genre_infos = driver.find_elements(By.XPATH, '//p[@class=\"text-muted \"]')\n",
    "    for genre_info in genre_infos:\n",
    "        if len(genre_info.text.split('|')) == 3:\n",
    "            fsk.append(genre_info.text.split('|')[0])\n",
    "            dauer.append(genre_info.text.split('|')[1])\n",
    "            genre.append(genre_info.text.split('|')[2])\n",
    "        elif len(genre_info.text.split('|')) == 2:\n",
    "            fsk.append('NaN')\n",
    "            dauer.append(genre_info.text.split('|')[0])\n",
    "            genre.append(genre_info.text.split('|')[1])\n",
    "\n",
    "    ratings_bar =  driver.find_elements(By.CLASS_NAME, 'ratings-bar')\n",
    "    for rating_bar in ratings_bar:\n",
    "        bewertung.append(rating_bar.text.split(' ')[0])\n",
    "\n",
    "    movie_info = driver.find_elements(By.XPATH, '//div[@class=\"lister-item-content\"]')\n",
    "    for info in movie_info:\n",
    "        # Split the text into lines and select the second line\n",
    "        lines = info.text.split('\\n')\n",
    "        staff = lines[-2].split(\" | \")\n",
    "        # Iterating through the list and replacing 'Director:' with an empty string\n",
    "        for i in range(len(staff)):\n",
    "            staff[i] = staff[i].replace('Director: ', '')\n",
    "            staff[i] = staff[i].replace('Stars: ', '')\n",
    "        # Append the duration to the list\n",
    "        regisseur.append(staff[0])\n",
    "        stars.append(staff[-1])\n",
    "\n",
    "    if len(rang)== end:\n",
    "        break    \n",
    "    next_page = driver.find_element(By.LINK_TEXT, 'Next »')\n",
    "    next_page.click()\n",
    "\n",
    "driver.quit()\n",
    "\n",
    "# lists to dataframe\n",
    "import pandas as pd\n",
    "df = pd.DataFrame()\n",
    "df['rang'] = rang\n",
    "df['film'] = film\n",
    "df['jahr'] = jahr\n",
    "df['fsk'] = fsk\n",
    "df['dauer'] = dauer\n",
    "df['genre'] = genre\n",
    "df['bewertung'] = bewertung\n",
    "df['regisseur'] = regisseur\n",
    "df['stars'] = stars\n",
    "df"
   ]
  },
  {
   "cell_type": "code",
   "execution_count": null,
   "metadata": {},
   "outputs": [],
   "source": [
    "df1 = df.copy()"
   ]
  },
  {
   "cell_type": "code",
   "execution_count": null,
   "metadata": {},
   "outputs": [],
   "source": [
    "df1"
   ]
  },
  {
   "cell_type": "code",
   "execution_count": null,
   "metadata": {},
   "outputs": [],
   "source": [
    "df1.rang = df1.rang.str.replace('.','')\n",
    "#from film remove the brackets and commas regex\n",
    "df1.film = df1['film'].str.join(' ')\n",
    "df1.jahr = df1.jahr.str[1:-1]\n",
    "df1.dauer = df1.dauer.str.replace('min','')\n",
    "df1"
   ]
  },
  {
   "cell_type": "code",
   "execution_count": null,
   "metadata": {},
   "outputs": [],
   "source": [
    "# jahr as date\n",
    "df1['jahr'] = pd.to_datetime(df1['jahr'], format='%Y')"
   ]
  },
  {
   "cell_type": "code",
   "execution_count": null,
   "metadata": {},
   "outputs": [],
   "source": [
    "\n",
    "\n"
   ]
  },
  {
   "attachments": {},
   "cell_type": "markdown",
   "metadata": {},
   "source": [
    "# EDA"
   ]
  },
  {
   "cell_type": "code",
   "execution_count": null,
   "metadata": {},
   "outputs": [],
   "source": []
  },
  {
   "cell_type": "code",
   "execution_count": null,
   "metadata": {},
   "outputs": [],
   "source": [
    "import seaborn as sns\n",
    "#scatterplot jahr and bewertung\n",
    "sns.scatterplot(data=df1, x=\"jahr\", y=\"bewertung\")"
   ]
  },
  {
   "cell_type": "code",
   "execution_count": null,
   "metadata": {},
   "outputs": [],
   "source": []
  },
  {
   "cell_type": "code",
   "execution_count": null,
   "metadata": {},
   "outputs": [],
   "source": []
  },
  {
   "cell_type": "code",
   "execution_count": null,
   "metadata": {},
   "outputs": [],
   "source": []
  },
  {
   "cell_type": "code",
   "execution_count": null,
   "metadata": {
    "collapsed": false
   },
   "outputs": [],
   "source": [
    "driver.quit()"
   ]
  }
 ],
 "metadata": {
  "kernelspec": {
   "display_name": "Python 3",
   "language": "python",
   "name": "python3"
  },
  "language_info": {
   "codemirror_mode": {
    "name": "ipython",
    "version": 3
   },
   "file_extension": ".py",
   "mimetype": "text/x-python",
   "name": "python",
   "nbconvert_exporter": "python",
   "pygments_lexer": "ipython3",
   "version": "3.9.7"
  }
 },
 "nbformat": 4,
 "nbformat_minor": 0
}
