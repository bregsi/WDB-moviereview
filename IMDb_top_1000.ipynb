{
 "cells": [
  {
   "cell_type": "code",
   "execution_count": 1,
   "metadata": {
    "collapsed": true
   },
   "outputs": [],
   "source": [
    "#!pip install selenium\n",
    "#!pip install webdriver_manager\n",
    "from selenium import webdriver\n",
    "\n",
    "import os\n",
    "from selenium.webdriver.chrome.service import Service\n",
    "\n",
    "from selenium.webdriver.support.ui import WebDriverWait\n",
    "\n",
    "from selenium.webdriver.support import expected_conditions as EC\n",
    "from selenium.webdriver.chrome.options import Options\n",
    "from selenium.webdriver.common.by import By\n",
    "\n",
    "from bs4 import BeautifulSoup\n",
    "\n",
    "import codecs\n",
    "from selenium.webdriver.common.keys import Keys\n",
    "import re\n",
    "\n",
    "from webdriver_manager.chrome import ChromeDriverManager\n",
    "from selenium.webdriver.support.ui import Select"
   ]
  },
  {
   "cell_type": "code",
   "execution_count": 2,
   "metadata": {
    "collapsed": false
   },
   "outputs": [],
   "source": [
    "website = 'https://www.imdb.com/search/title/?count=100&groups=top_1000&sort=user_rating'\n",
    "driver = webdriver.Chrome()\n",
    "driver.get(website)"
   ]
  },
  {
   "cell_type": "code",
   "execution_count": 3,
   "metadata": {
    "collapsed": false
   },
   "outputs": [
    {
     "data": {
      "text/plain": "       rang                                               film    jahr  fsk   \n0        1.                                [Die, Verurteilten]  (1994)  12   \\\n1        2.                                        [Der, Pate]  (1972)  16    \n2        3.                                [The, Dark, Knight]  (2008)  16    \n3        4.                                [Schindlers, Liste]  (1993)  12    \n4        5.  [Der, Herr, der, Ringe:, Die, Rückkehr, des, K...  (2003)  12    \n..      ...                                                ...     ...  ...   \n995    996.               [Schreckenshaus, des, Dr., Rasanoff]  (1960)  NaN   \n996    997.                   [Shine, -, Der, Weg, ins, Licht]  (1996)  12    \n997    998.                                          [Control]  (2007)  12    \n998    999.                                 [Der, Unsichtbare]  (1933)  16    \n999  1.000.                [Zelle, 211, -, Der, Knastaufstand]  (2009)  16    \n\n         dauer                       genre bewertung  \n0     142 min                        Drama       9,3  \n1     175 min                 Crime, Drama       9,2  \n2     152 min         Action, Crime, Drama       9,0  \n3     195 min    Biography, Drama, History       9,0  \n4     201 min     Action, Adventure, Drama       9,0  \n..         ...                         ...       ...  \n995    90 min                Drama, Horror       7,6  \n996   105 min      Biography, Drama, Music       7,6  \n997   122 min      Biography, Drama, Music       7,6  \n998    71 min               Horror, Sci-Fi       7,6  \n999   113 min     Action, Adventure, Crime       7,6  \n\n[1000 rows x 7 columns]",
      "text/html": "<div>\n<style scoped>\n    .dataframe tbody tr th:only-of-type {\n        vertical-align: middle;\n    }\n\n    .dataframe tbody tr th {\n        vertical-align: top;\n    }\n\n    .dataframe thead th {\n        text-align: right;\n    }\n</style>\n<table border=\"1\" class=\"dataframe\">\n  <thead>\n    <tr style=\"text-align: right;\">\n      <th></th>\n      <th>rang</th>\n      <th>film</th>\n      <th>jahr</th>\n      <th>fsk</th>\n      <th>dauer</th>\n      <th>genre</th>\n      <th>bewertung</th>\n    </tr>\n  </thead>\n  <tbody>\n    <tr>\n      <th>0</th>\n      <td>1.</td>\n      <td>[Die, Verurteilten]</td>\n      <td>(1994)</td>\n      <td>12</td>\n      <td>142 min</td>\n      <td>Drama</td>\n      <td>9,3</td>\n    </tr>\n    <tr>\n      <th>1</th>\n      <td>2.</td>\n      <td>[Der, Pate]</td>\n      <td>(1972)</td>\n      <td>16</td>\n      <td>175 min</td>\n      <td>Crime, Drama</td>\n      <td>9,2</td>\n    </tr>\n    <tr>\n      <th>2</th>\n      <td>3.</td>\n      <td>[The, Dark, Knight]</td>\n      <td>(2008)</td>\n      <td>16</td>\n      <td>152 min</td>\n      <td>Action, Crime, Drama</td>\n      <td>9,0</td>\n    </tr>\n    <tr>\n      <th>3</th>\n      <td>4.</td>\n      <td>[Schindlers, Liste]</td>\n      <td>(1993)</td>\n      <td>12</td>\n      <td>195 min</td>\n      <td>Biography, Drama, History</td>\n      <td>9,0</td>\n    </tr>\n    <tr>\n      <th>4</th>\n      <td>5.</td>\n      <td>[Der, Herr, der, Ringe:, Die, Rückkehr, des, K...</td>\n      <td>(2003)</td>\n      <td>12</td>\n      <td>201 min</td>\n      <td>Action, Adventure, Drama</td>\n      <td>9,0</td>\n    </tr>\n    <tr>\n      <th>...</th>\n      <td>...</td>\n      <td>...</td>\n      <td>...</td>\n      <td>...</td>\n      <td>...</td>\n      <td>...</td>\n      <td>...</td>\n    </tr>\n    <tr>\n      <th>995</th>\n      <td>996.</td>\n      <td>[Schreckenshaus, des, Dr., Rasanoff]</td>\n      <td>(1960)</td>\n      <td>NaN</td>\n      <td>90 min</td>\n      <td>Drama, Horror</td>\n      <td>7,6</td>\n    </tr>\n    <tr>\n      <th>996</th>\n      <td>997.</td>\n      <td>[Shine, -, Der, Weg, ins, Licht]</td>\n      <td>(1996)</td>\n      <td>12</td>\n      <td>105 min</td>\n      <td>Biography, Drama, Music</td>\n      <td>7,6</td>\n    </tr>\n    <tr>\n      <th>997</th>\n      <td>998.</td>\n      <td>[Control]</td>\n      <td>(2007)</td>\n      <td>12</td>\n      <td>122 min</td>\n      <td>Biography, Drama, Music</td>\n      <td>7,6</td>\n    </tr>\n    <tr>\n      <th>998</th>\n      <td>999.</td>\n      <td>[Der, Unsichtbare]</td>\n      <td>(1933)</td>\n      <td>16</td>\n      <td>71 min</td>\n      <td>Horror, Sci-Fi</td>\n      <td>7,6</td>\n    </tr>\n    <tr>\n      <th>999</th>\n      <td>1.000.</td>\n      <td>[Zelle, 211, -, Der, Knastaufstand]</td>\n      <td>(2009)</td>\n      <td>16</td>\n      <td>113 min</td>\n      <td>Action, Adventure, Crime</td>\n      <td>7,6</td>\n    </tr>\n  </tbody>\n</table>\n<p>1000 rows × 7 columns</p>\n</div>"
     },
     "execution_count": 3,
     "metadata": {},
     "output_type": "execute_result"
    }
   ],
   "source": [
    "next_page = driver.find_element(By.LINK_TEXT, 'Next »')\n",
    "for x in driver.find_elements(By.XPATH,'//*[@id=\"main\"]/div/div[4]/span[1]'):\n",
    "    end = int(x.text.split(' ')[2].replace(',',''))\n",
    "rang = []\n",
    "film = []\n",
    "jahr = []\n",
    "fsk = []\n",
    "dauer = []\n",
    "genre = []\n",
    "bewertung = []\n",
    "\n",
    "\n",
    "while next_page:\n",
    "    headers = driver.find_elements(By.TAG_NAME, 'h3')\n",
    "    for head in headers:\n",
    "        rang.append(head.text.split(' ')[0])\n",
    "        jahr.append(head.text.split(' ')[-1])\n",
    "        film.append(head.text.split(' ')[1:-1])\n",
    "    rang = rang[:-1]\n",
    "    jahr = jahr[:-1]\n",
    "    film = film[:-1]\n",
    "    genre_infos = driver.find_elements(By.XPATH, '//p[@class=\"text-muted \"]')\n",
    "\n",
    "    for genre_info in genre_infos:\n",
    "        if len(genre_info.text.split('|')) == 3:\n",
    "            fsk.append(genre_info.text.split('|')[0])\n",
    "            dauer.append(genre_info.text.split('|')[1])\n",
    "            genre.append(genre_info.text.split('|')[2])\n",
    "        elif len(genre_info.text.split('|')) == 2:\n",
    "            fsk.append('NaN')\n",
    "            dauer.append(genre_info.text.split('|')[0])\n",
    "            genre.append(genre_info.text.split('|')[1])\n",
    "    ratings_bar =  driver.find_elements(By.CLASS_NAME, 'ratings-bar')\n",
    "    \n",
    "    for rating_bar in ratings_bar:\n",
    "        bewertung.append(rating_bar.text.split(' ')[0])\n",
    "    if len(rang)== end:\n",
    "        break    \n",
    "    next_page = driver.find_element(By.LINK_TEXT, 'Next »')\n",
    "    next_page.click()\n",
    "\n",
    "driver.quit()\n",
    "\n",
    "# lists to dataframe\n",
    "import pandas as pd\n",
    "df = pd.DataFrame()\n",
    "df['rang'] = rang\n",
    "df['film'] = film\n",
    "df['jahr'] = jahr\n",
    "df['fsk'] = fsk\n",
    "df['dauer'] = dauer\n",
    "df['genre'] = genre\n",
    "df['bewertung'] = bewertung\n",
    "df"
   ]
  },
  {
   "cell_type": "code",
   "execution_count": 4,
   "metadata": {},
   "outputs": [],
   "source": [
    "df1 = df.copy()"
   ]
  },
  {
   "cell_type": "code",
   "execution_count": 5,
   "metadata": {},
   "outputs": [
    {
     "data": {
      "text/plain": "       rang                                               film    jahr  fsk   \n0        1.                                [Die, Verurteilten]  (1994)  12   \\\n1        2.                                        [Der, Pate]  (1972)  16    \n2        3.                                [The, Dark, Knight]  (2008)  16    \n3        4.                                [Schindlers, Liste]  (1993)  12    \n4        5.  [Der, Herr, der, Ringe:, Die, Rückkehr, des, K...  (2003)  12    \n..      ...                                                ...     ...  ...   \n995    996.               [Schreckenshaus, des, Dr., Rasanoff]  (1960)  NaN   \n996    997.                   [Shine, -, Der, Weg, ins, Licht]  (1996)  12    \n997    998.                                          [Control]  (2007)  12    \n998    999.                                 [Der, Unsichtbare]  (1933)  16    \n999  1.000.                [Zelle, 211, -, Der, Knastaufstand]  (2009)  16    \n\n         dauer                       genre bewertung  \n0     142 min                        Drama       9,3  \n1     175 min                 Crime, Drama       9,2  \n2     152 min         Action, Crime, Drama       9,0  \n3     195 min    Biography, Drama, History       9,0  \n4     201 min     Action, Adventure, Drama       9,0  \n..         ...                         ...       ...  \n995    90 min                Drama, Horror       7,6  \n996   105 min      Biography, Drama, Music       7,6  \n997   122 min      Biography, Drama, Music       7,6  \n998    71 min               Horror, Sci-Fi       7,6  \n999   113 min     Action, Adventure, Crime       7,6  \n\n[1000 rows x 7 columns]",
      "text/html": "<div>\n<style scoped>\n    .dataframe tbody tr th:only-of-type {\n        vertical-align: middle;\n    }\n\n    .dataframe tbody tr th {\n        vertical-align: top;\n    }\n\n    .dataframe thead th {\n        text-align: right;\n    }\n</style>\n<table border=\"1\" class=\"dataframe\">\n  <thead>\n    <tr style=\"text-align: right;\">\n      <th></th>\n      <th>rang</th>\n      <th>film</th>\n      <th>jahr</th>\n      <th>fsk</th>\n      <th>dauer</th>\n      <th>genre</th>\n      <th>bewertung</th>\n    </tr>\n  </thead>\n  <tbody>\n    <tr>\n      <th>0</th>\n      <td>1.</td>\n      <td>[Die, Verurteilten]</td>\n      <td>(1994)</td>\n      <td>12</td>\n      <td>142 min</td>\n      <td>Drama</td>\n      <td>9,3</td>\n    </tr>\n    <tr>\n      <th>1</th>\n      <td>2.</td>\n      <td>[Der, Pate]</td>\n      <td>(1972)</td>\n      <td>16</td>\n      <td>175 min</td>\n      <td>Crime, Drama</td>\n      <td>9,2</td>\n    </tr>\n    <tr>\n      <th>2</th>\n      <td>3.</td>\n      <td>[The, Dark, Knight]</td>\n      <td>(2008)</td>\n      <td>16</td>\n      <td>152 min</td>\n      <td>Action, Crime, Drama</td>\n      <td>9,0</td>\n    </tr>\n    <tr>\n      <th>3</th>\n      <td>4.</td>\n      <td>[Schindlers, Liste]</td>\n      <td>(1993)</td>\n      <td>12</td>\n      <td>195 min</td>\n      <td>Biography, Drama, History</td>\n      <td>9,0</td>\n    </tr>\n    <tr>\n      <th>4</th>\n      <td>5.</td>\n      <td>[Der, Herr, der, Ringe:, Die, Rückkehr, des, K...</td>\n      <td>(2003)</td>\n      <td>12</td>\n      <td>201 min</td>\n      <td>Action, Adventure, Drama</td>\n      <td>9,0</td>\n    </tr>\n    <tr>\n      <th>...</th>\n      <td>...</td>\n      <td>...</td>\n      <td>...</td>\n      <td>...</td>\n      <td>...</td>\n      <td>...</td>\n      <td>...</td>\n    </tr>\n    <tr>\n      <th>995</th>\n      <td>996.</td>\n      <td>[Schreckenshaus, des, Dr., Rasanoff]</td>\n      <td>(1960)</td>\n      <td>NaN</td>\n      <td>90 min</td>\n      <td>Drama, Horror</td>\n      <td>7,6</td>\n    </tr>\n    <tr>\n      <th>996</th>\n      <td>997.</td>\n      <td>[Shine, -, Der, Weg, ins, Licht]</td>\n      <td>(1996)</td>\n      <td>12</td>\n      <td>105 min</td>\n      <td>Biography, Drama, Music</td>\n      <td>7,6</td>\n    </tr>\n    <tr>\n      <th>997</th>\n      <td>998.</td>\n      <td>[Control]</td>\n      <td>(2007)</td>\n      <td>12</td>\n      <td>122 min</td>\n      <td>Biography, Drama, Music</td>\n      <td>7,6</td>\n    </tr>\n    <tr>\n      <th>998</th>\n      <td>999.</td>\n      <td>[Der, Unsichtbare]</td>\n      <td>(1933)</td>\n      <td>16</td>\n      <td>71 min</td>\n      <td>Horror, Sci-Fi</td>\n      <td>7,6</td>\n    </tr>\n    <tr>\n      <th>999</th>\n      <td>1.000.</td>\n      <td>[Zelle, 211, -, Der, Knastaufstand]</td>\n      <td>(2009)</td>\n      <td>16</td>\n      <td>113 min</td>\n      <td>Action, Adventure, Crime</td>\n      <td>7,6</td>\n    </tr>\n  </tbody>\n</table>\n<p>1000 rows × 7 columns</p>\n</div>"
     },
     "execution_count": 5,
     "metadata": {},
     "output_type": "execute_result"
    }
   ],
   "source": [
    "df1"
   ]
  },
  {
   "cell_type": "code",
   "execution_count": 6,
   "metadata": {},
   "outputs": [
    {
     "data": {
      "text/plain": "     rang                                         film  jahr  fsk   dauer   \n0       1                             Die Verurteilten  1994  12    142    \\\n1       2                                     Der Pate  1972  16    175     \n2       3                              The Dark Knight  2008  16    152     \n3       4                             Schindlers Liste  1993  12    195     \n4       5  Der Herr der Ringe: Die Rückkehr des Königs  2003  12    201     \n..    ...                                          ...   ...  ...     ...   \n995   996              Schreckenshaus des Dr. Rasanoff  1960  NaN    90     \n996   997                    Shine - Der Weg ins Licht  1996  12    105     \n997   998                                      Control  2007  12    122     \n998   999                              Der Unsichtbare  1933  16     71     \n999  1000                Zelle 211 - Der Knastaufstand  2009  16    113     \n\n                          genre bewertung  \n0                         Drama       9,3  \n1                  Crime, Drama       9,2  \n2          Action, Crime, Drama       9,0  \n3     Biography, Drama, History       9,0  \n4      Action, Adventure, Drama       9,0  \n..                          ...       ...  \n995               Drama, Horror       7,6  \n996     Biography, Drama, Music       7,6  \n997     Biography, Drama, Music       7,6  \n998              Horror, Sci-Fi       7,6  \n999    Action, Adventure, Crime       7,6  \n\n[1000 rows x 7 columns]",
      "text/html": "<div>\n<style scoped>\n    .dataframe tbody tr th:only-of-type {\n        vertical-align: middle;\n    }\n\n    .dataframe tbody tr th {\n        vertical-align: top;\n    }\n\n    .dataframe thead th {\n        text-align: right;\n    }\n</style>\n<table border=\"1\" class=\"dataframe\">\n  <thead>\n    <tr style=\"text-align: right;\">\n      <th></th>\n      <th>rang</th>\n      <th>film</th>\n      <th>jahr</th>\n      <th>fsk</th>\n      <th>dauer</th>\n      <th>genre</th>\n      <th>bewertung</th>\n    </tr>\n  </thead>\n  <tbody>\n    <tr>\n      <th>0</th>\n      <td>1</td>\n      <td>Die Verurteilten</td>\n      <td>1994</td>\n      <td>12</td>\n      <td>142</td>\n      <td>Drama</td>\n      <td>9,3</td>\n    </tr>\n    <tr>\n      <th>1</th>\n      <td>2</td>\n      <td>Der Pate</td>\n      <td>1972</td>\n      <td>16</td>\n      <td>175</td>\n      <td>Crime, Drama</td>\n      <td>9,2</td>\n    </tr>\n    <tr>\n      <th>2</th>\n      <td>3</td>\n      <td>The Dark Knight</td>\n      <td>2008</td>\n      <td>16</td>\n      <td>152</td>\n      <td>Action, Crime, Drama</td>\n      <td>9,0</td>\n    </tr>\n    <tr>\n      <th>3</th>\n      <td>4</td>\n      <td>Schindlers Liste</td>\n      <td>1993</td>\n      <td>12</td>\n      <td>195</td>\n      <td>Biography, Drama, History</td>\n      <td>9,0</td>\n    </tr>\n    <tr>\n      <th>4</th>\n      <td>5</td>\n      <td>Der Herr der Ringe: Die Rückkehr des Königs</td>\n      <td>2003</td>\n      <td>12</td>\n      <td>201</td>\n      <td>Action, Adventure, Drama</td>\n      <td>9,0</td>\n    </tr>\n    <tr>\n      <th>...</th>\n      <td>...</td>\n      <td>...</td>\n      <td>...</td>\n      <td>...</td>\n      <td>...</td>\n      <td>...</td>\n      <td>...</td>\n    </tr>\n    <tr>\n      <th>995</th>\n      <td>996</td>\n      <td>Schreckenshaus des Dr. Rasanoff</td>\n      <td>1960</td>\n      <td>NaN</td>\n      <td>90</td>\n      <td>Drama, Horror</td>\n      <td>7,6</td>\n    </tr>\n    <tr>\n      <th>996</th>\n      <td>997</td>\n      <td>Shine - Der Weg ins Licht</td>\n      <td>1996</td>\n      <td>12</td>\n      <td>105</td>\n      <td>Biography, Drama, Music</td>\n      <td>7,6</td>\n    </tr>\n    <tr>\n      <th>997</th>\n      <td>998</td>\n      <td>Control</td>\n      <td>2007</td>\n      <td>12</td>\n      <td>122</td>\n      <td>Biography, Drama, Music</td>\n      <td>7,6</td>\n    </tr>\n    <tr>\n      <th>998</th>\n      <td>999</td>\n      <td>Der Unsichtbare</td>\n      <td>1933</td>\n      <td>16</td>\n      <td>71</td>\n      <td>Horror, Sci-Fi</td>\n      <td>7,6</td>\n    </tr>\n    <tr>\n      <th>999</th>\n      <td>1000</td>\n      <td>Zelle 211 - Der Knastaufstand</td>\n      <td>2009</td>\n      <td>16</td>\n      <td>113</td>\n      <td>Action, Adventure, Crime</td>\n      <td>7,6</td>\n    </tr>\n  </tbody>\n</table>\n<p>1000 rows × 7 columns</p>\n</div>"
     },
     "execution_count": 6,
     "metadata": {},
     "output_type": "execute_result"
    }
   ],
   "source": [
    "df1.rang = df1.rang.str.replace('.','')\n",
    "#from film remove the brackets and commas regex\n",
    "df1.film = df1['film'].str.join(' ')\n",
    "df1.jahr = df1.jahr.str[1:-1]\n",
    "df1.dauer = df1.dauer.str.replace('min','')\n",
    "df1"
   ]
  },
  {
   "cell_type": "code",
   "execution_count": 7,
   "metadata": {},
   "outputs": [],
   "source": [
    "# jahr as date\n",
    "df1['jahr'] = pd.to_datetime(df1['jahr'], format='%Y')"
   ]
  },
  {
   "cell_type": "code",
   "execution_count": 7,
   "metadata": {},
   "outputs": [],
   "source": [
    "\n",
    "\n"
   ]
  },
  {
   "attachments": {},
   "cell_type": "markdown",
   "metadata": {},
   "source": [
    "# EDA"
   ]
  },
  {
   "cell_type": "code",
   "execution_count": 7,
   "metadata": {},
   "outputs": [],
   "source": []
  },
  {
   "cell_type": "code",
   "execution_count": 8,
   "metadata": {},
   "outputs": [
    {
     "ename": "ModuleNotFoundError",
     "evalue": "No module named 'seaborn'",
     "output_type": "error",
     "traceback": [
      "\u001B[1;31m---------------------------------------------------------------------------\u001B[0m",
      "\u001B[1;31mModuleNotFoundError\u001B[0m                       Traceback (most recent call last)",
      "Cell \u001B[1;32mIn[8], line 1\u001B[0m\n\u001B[1;32m----> 1\u001B[0m \u001B[38;5;28;01mimport\u001B[39;00m \u001B[38;5;21;01mseaborn\u001B[39;00m \u001B[38;5;28;01mas\u001B[39;00m \u001B[38;5;21;01msns\u001B[39;00m\n\u001B[0;32m      2\u001B[0m \u001B[38;5;66;03m#scatterplot jahr and bewertung\u001B[39;00m\n\u001B[0;32m      3\u001B[0m sns\u001B[38;5;241m.\u001B[39mscatterplot(data\u001B[38;5;241m=\u001B[39mdf1, x\u001B[38;5;241m=\u001B[39m\u001B[38;5;124m\"\u001B[39m\u001B[38;5;124mjahr\u001B[39m\u001B[38;5;124m\"\u001B[39m, y\u001B[38;5;241m=\u001B[39m\u001B[38;5;124m\"\u001B[39m\u001B[38;5;124mbewertung\u001B[39m\u001B[38;5;124m\"\u001B[39m)\n",
      "\u001B[1;31mModuleNotFoundError\u001B[0m: No module named 'seaborn'"
     ]
    }
   ],
   "source": [
    "import seaborn as sns\n",
    "#scatterplot jahr and bewertung\n",
    "sns.scatterplot(data=df1, x=\"jahr\", y=\"bewertung\")"
   ]
  },
  {
   "cell_type": "code",
   "execution_count": null,
   "metadata": {},
   "outputs": [],
   "source": []
  },
  {
   "cell_type": "code",
   "execution_count": null,
   "metadata": {},
   "outputs": [],
   "source": []
  },
  {
   "cell_type": "code",
   "execution_count": null,
   "metadata": {},
   "outputs": [],
   "source": []
  },
  {
   "cell_type": "code",
   "execution_count": null,
   "metadata": {
    "collapsed": false
   },
   "outputs": [],
   "source": [
    "driver.quit()"
   ]
  }
 ],
 "metadata": {
  "kernelspec": {
   "display_name": "Python 3",
   "language": "python",
   "name": "python3"
  },
  "language_info": {
   "codemirror_mode": {
    "name": "ipython",
    "version": 3
   },
   "file_extension": ".py",
   "mimetype": "text/x-python",
   "name": "python",
   "nbconvert_exporter": "python",
   "pygments_lexer": "ipython3",
   "version": "3.9.7"
  }
 },
 "nbformat": 4,
 "nbformat_minor": 0
}
