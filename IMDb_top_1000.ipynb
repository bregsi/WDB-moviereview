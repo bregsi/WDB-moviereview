{
 "cells": [
  {
   "cell_type": "code",
   "execution_count": 52,
   "metadata": {
    "collapsed": true
   },
   "outputs": [],
   "source": [
    "#!pip install selenium\n",
    "#!pip install webdriver_manager\n",
    "from selenium import webdriver\n",
    "\n",
    "import os\n",
    "from selenium.webdriver.chrome.service import Service\n",
    "\n",
    "from selenium.webdriver.support.ui import WebDriverWait\n",
    "\n",
    "from selenium.webdriver.support import expected_conditions as EC\n",
    "from selenium.webdriver.chrome.options import Options\n",
    "from selenium.webdriver.common.by import By\n",
    "\n",
    "from bs4 import BeautifulSoup\n",
    "\n",
    "import codecs\n",
    "from selenium.webdriver.common.keys import Keys\n",
    "import re\n",
    "\n",
    "from webdriver_manager.chrome import ChromeDriverManager\n",
    "from selenium.webdriver.support.ui import Select"
   ]
  },
  {
   "cell_type": "code",
   "execution_count": 53,
   "outputs": [
    {
     "name": "stderr",
     "output_type": "stream",
     "text": [
      "C:\\Users\\olive\\AppData\\Local\\Temp\\ipykernel_32924\\1695629379.py:3: DeprecationWarning: executable_path has been deprecated, please pass in a Service object\n",
      "  driver = webdriver.Chrome(path)\n"
     ]
    }
   ],
   "source": [
    "website = 'https://www.imdb.com/search/title/?count=100&groups=top_1000&sort=user_rating'\n",
    "path = 'C:/Users/olive/Downloads/chromedriver'\n",
    "driver = webdriver.Chrome(path)\n",
    "driver.get(website)"
   ],
   "metadata": {
    "collapsed": false
   }
  },
  {
   "cell_type": "code",
   "execution_count": 54,
   "outputs": [
    {
     "ename": "ValueError",
     "evalue": "not enough values to unpack (expected 2, got 1)",
     "output_type": "error",
     "traceback": [
      "\u001B[1;31m---------------------------------------------------------------------------\u001B[0m",
      "\u001B[1;31mValueError\u001B[0m                                Traceback (most recent call last)",
      "Cell \u001B[1;32mIn[54], line 15\u001B[0m\n\u001B[0;32m     12\u001B[0m anzahl_bewertungen \u001B[38;5;241m=\u001B[39m []\n\u001B[0;32m     14\u001B[0m \u001B[38;5;28;01mfor\u001B[39;00m head \u001B[38;5;129;01min\u001B[39;00m headers:\n\u001B[1;32m---> 15\u001B[0m     rang_str, titel_str \u001B[38;5;241m=\u001B[39m head\u001B[38;5;241m.\u001B[39mtext\u001B[38;5;241m.\u001B[39msplit(\u001B[38;5;124m\"\u001B[39m\u001B[38;5;124m.\u001B[39m\u001B[38;5;124m\"\u001B[39m, \u001B[38;5;241m1\u001B[39m)\n\u001B[0;32m     16\u001B[0m     rang_str \u001B[38;5;241m=\u001B[39m rang_str\u001B[38;5;241m.\u001B[39mstrip()\n\u001B[0;32m     17\u001B[0m     rang\u001B[38;5;241m.\u001B[39mappend(\u001B[38;5;28mint\u001B[39m(rang_str))\n",
      "\u001B[1;31mValueError\u001B[0m: not enough values to unpack (expected 2, got 1)"
     ]
    }
   ],
   "source": [
    "headers = driver.find_elements(By.TAG_NAME, 'h3')\n",
    "\n",
    "rang = []\n",
    "film = []\n",
    "jahr = []\n",
    "fsk = []\n",
    "dauer = []\n",
    "genre = []\n",
    "bewertung = []\n",
    "regisseur = []\n",
    "stars = []\n",
    "anzahl_bewertungen = []\n",
    "\n",
    "for head in headers:\n",
    "    rang_str, titel_str = head.text.split(\".\", 1)\n",
    "    rang_str = rang_str.strip()\n",
    "    rang.append(int(rang_str))\n",
    "\n",
    "    titel_str = titel_str.strip()\n",
    "    jahr_str_list = [s for s in titel_str.split() if s.isdigit()]\n",
    "    jahr_str = jahr_str_list[0] if jahr_str_list else None\n",
    "    if jahr_str is not None:\n",
    "        jahr.append(int(jahr_str))\n",
    "    else:\n",
    "        jahr.append(None)\n",
    "    titel_str = \" \".join([s for s in titel_str.split() if not s.isdigit()])\n",
    "    film.append(titel_str)\n",
    "\n",
    "print(rang)\n",
    "print(film)\n",
    "print(jahr)"
   ],
   "metadata": {
    "collapsed": false
   }
  },
  {
   "cell_type": "code",
   "execution_count": null,
   "outputs": [],
   "source": [
    "driver.quit()"
   ],
   "metadata": {
    "collapsed": false
   }
  }
 ],
 "metadata": {
  "kernelspec": {
   "display_name": "Python 3",
   "language": "python",
   "name": "python3"
  },
  "language_info": {
   "codemirror_mode": {
    "name": "ipython",
    "version": 2
   },
   "file_extension": ".py",
   "mimetype": "text/x-python",
   "name": "python",
   "nbconvert_exporter": "python",
   "pygments_lexer": "ipython2",
   "version": "2.7.6"
  }
 },
 "nbformat": 4,
 "nbformat_minor": 0
}
