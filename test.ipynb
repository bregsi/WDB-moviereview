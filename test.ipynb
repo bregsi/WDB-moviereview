{
 "cells": [
  {
   "cell_type": "code",
   "execution_count": 4,
   "outputs": [],
   "source": [
    "#!pip install selenium\n",
    "#!pip install webdriver_manager\n",
    "from selenium import webdriver\n",
    "\n",
    "import os\n",
    "from selenium.webdriver.chrome.service import Service\n",
    "\n",
    "from selenium.webdriver.support.ui import WebDriverWait\n",
    "\n",
    "from selenium.webdriver.support import expected_conditions as EC\n",
    "from selenium.webdriver.chrome.options import Options\n",
    "from selenium.webdriver.common.by import By\n",
    "\n",
    "import codecs\n",
    "from selenium.webdriver.common.keys import Keys\n",
    "import re\n",
    "\n",
    "from webdriver_manager.chrome import ChromeDriverManager\n",
    "from selenium.webdriver.support.ui import Select"
   ],
   "metadata": {
    "collapsed": false
   }
  },
  {
   "cell_type": "code",
   "execution_count": 5,
   "outputs": [],
   "source": [
    "website = 'https://www.imdb.com/search/title/?count=100&groups=top_1000&sort=user_rating'\n",
    "driver = webdriver.Chrome()\n",
    "driver.get(website)"
   ],
   "metadata": {
    "collapsed": false
   }
  },
  {
   "cell_type": "code",
   "execution_count": 6,
   "outputs": [
    {
     "name": "stdout",
     "output_type": "stream",
     "text": [
      "1000\n"
     ]
    },
    {
     "ename": "ValueError",
     "evalue": "Length of values (1000) does not match length of index (991)",
     "output_type": "error",
     "traceback": [
      "\u001B[1;31m---------------------------------------------------------------------------\u001B[0m",
      "\u001B[1;31mValueError\u001B[0m                                Traceback (most recent call last)",
      "Cell \u001B[1;32mIn[6], line 64\u001B[0m\n\u001B[0;32m     62\u001B[0m df[\u001B[38;5;124m'\u001B[39m\u001B[38;5;124mfilm\u001B[39m\u001B[38;5;124m'\u001B[39m] \u001B[38;5;241m=\u001B[39m film\n\u001B[0;32m     63\u001B[0m df[\u001B[38;5;124m'\u001B[39m\u001B[38;5;124mjahr\u001B[39m\u001B[38;5;124m'\u001B[39m] \u001B[38;5;241m=\u001B[39m jahr\n\u001B[1;32m---> 64\u001B[0m \u001B[43mdf\u001B[49m\u001B[43m[\u001B[49m\u001B[38;5;124;43m'\u001B[39;49m\u001B[38;5;124;43mfsk\u001B[39;49m\u001B[38;5;124;43m'\u001B[39;49m\u001B[43m]\u001B[49m \u001B[38;5;241m=\u001B[39m fsk\n\u001B[0;32m     65\u001B[0m df[\u001B[38;5;124m'\u001B[39m\u001B[38;5;124mdauer\u001B[39m\u001B[38;5;124m'\u001B[39m] \u001B[38;5;241m=\u001B[39m dauer\n\u001B[0;32m     66\u001B[0m df[\u001B[38;5;124m'\u001B[39m\u001B[38;5;124mgenre\u001B[39m\u001B[38;5;124m'\u001B[39m] \u001B[38;5;241m=\u001B[39m genre\n",
      "File \u001B[1;32mC:\\dev\\wdb\\WDB\\venv\\lib\\site-packages\\pandas\\core\\frame.py:3960\u001B[0m, in \u001B[0;36mDataFrame.__setitem__\u001B[1;34m(self, key, value)\u001B[0m\n\u001B[0;32m   3957\u001B[0m     \u001B[38;5;28mself\u001B[39m\u001B[38;5;241m.\u001B[39m_setitem_array([key], value)\n\u001B[0;32m   3958\u001B[0m \u001B[38;5;28;01melse\u001B[39;00m:\n\u001B[0;32m   3959\u001B[0m     \u001B[38;5;66;03m# set column\u001B[39;00m\n\u001B[1;32m-> 3960\u001B[0m     \u001B[38;5;28;43mself\u001B[39;49m\u001B[38;5;241;43m.\u001B[39;49m\u001B[43m_set_item\u001B[49m\u001B[43m(\u001B[49m\u001B[43mkey\u001B[49m\u001B[43m,\u001B[49m\u001B[43m \u001B[49m\u001B[43mvalue\u001B[49m\u001B[43m)\u001B[49m\n",
      "File \u001B[1;32mC:\\dev\\wdb\\WDB\\venv\\lib\\site-packages\\pandas\\core\\frame.py:4153\u001B[0m, in \u001B[0;36mDataFrame._set_item\u001B[1;34m(self, key, value)\u001B[0m\n\u001B[0;32m   4143\u001B[0m \u001B[38;5;28;01mdef\u001B[39;00m \u001B[38;5;21m_set_item\u001B[39m(\u001B[38;5;28mself\u001B[39m, key, value) \u001B[38;5;241m-\u001B[39m\u001B[38;5;241m>\u001B[39m \u001B[38;5;28;01mNone\u001B[39;00m:\n\u001B[0;32m   4144\u001B[0m \u001B[38;5;250m    \u001B[39m\u001B[38;5;124;03m\"\"\"\u001B[39;00m\n\u001B[0;32m   4145\u001B[0m \u001B[38;5;124;03m    Add series to DataFrame in specified column.\u001B[39;00m\n\u001B[0;32m   4146\u001B[0m \n\u001B[1;32m   (...)\u001B[0m\n\u001B[0;32m   4151\u001B[0m \u001B[38;5;124;03m    ensure homogeneity.\u001B[39;00m\n\u001B[0;32m   4152\u001B[0m \u001B[38;5;124;03m    \"\"\"\u001B[39;00m\n\u001B[1;32m-> 4153\u001B[0m     value \u001B[38;5;241m=\u001B[39m \u001B[38;5;28;43mself\u001B[39;49m\u001B[38;5;241;43m.\u001B[39;49m\u001B[43m_sanitize_column\u001B[49m\u001B[43m(\u001B[49m\u001B[43mvalue\u001B[49m\u001B[43m)\u001B[49m\n\u001B[0;32m   4155\u001B[0m     \u001B[38;5;28;01mif\u001B[39;00m (\n\u001B[0;32m   4156\u001B[0m         key \u001B[38;5;129;01min\u001B[39;00m \u001B[38;5;28mself\u001B[39m\u001B[38;5;241m.\u001B[39mcolumns\n\u001B[0;32m   4157\u001B[0m         \u001B[38;5;129;01mand\u001B[39;00m value\u001B[38;5;241m.\u001B[39mndim \u001B[38;5;241m==\u001B[39m \u001B[38;5;241m1\u001B[39m\n\u001B[0;32m   4158\u001B[0m         \u001B[38;5;129;01mand\u001B[39;00m \u001B[38;5;129;01mnot\u001B[39;00m is_extension_array_dtype(value)\n\u001B[0;32m   4159\u001B[0m     ):\n\u001B[0;32m   4160\u001B[0m         \u001B[38;5;66;03m# broadcast across multiple columns if necessary\u001B[39;00m\n\u001B[0;32m   4161\u001B[0m         \u001B[38;5;28;01mif\u001B[39;00m \u001B[38;5;129;01mnot\u001B[39;00m \u001B[38;5;28mself\u001B[39m\u001B[38;5;241m.\u001B[39mcolumns\u001B[38;5;241m.\u001B[39mis_unique \u001B[38;5;129;01mor\u001B[39;00m \u001B[38;5;28misinstance\u001B[39m(\u001B[38;5;28mself\u001B[39m\u001B[38;5;241m.\u001B[39mcolumns, MultiIndex):\n",
      "File \u001B[1;32mC:\\dev\\wdb\\WDB\\venv\\lib\\site-packages\\pandas\\core\\frame.py:4880\u001B[0m, in \u001B[0;36mDataFrame._sanitize_column\u001B[1;34m(self, value)\u001B[0m\n\u001B[0;32m   4877\u001B[0m     \u001B[38;5;28;01mreturn\u001B[39;00m _reindex_for_setitem(Series(value), \u001B[38;5;28mself\u001B[39m\u001B[38;5;241m.\u001B[39mindex)\n\u001B[0;32m   4879\u001B[0m \u001B[38;5;28;01mif\u001B[39;00m is_list_like(value):\n\u001B[1;32m-> 4880\u001B[0m     \u001B[43mcom\u001B[49m\u001B[38;5;241;43m.\u001B[39;49m\u001B[43mrequire_length_match\u001B[49m\u001B[43m(\u001B[49m\u001B[43mvalue\u001B[49m\u001B[43m,\u001B[49m\u001B[43m \u001B[49m\u001B[38;5;28;43mself\u001B[39;49m\u001B[38;5;241;43m.\u001B[39;49m\u001B[43mindex\u001B[49m\u001B[43m)\u001B[49m\n\u001B[0;32m   4881\u001B[0m \u001B[38;5;28;01mreturn\u001B[39;00m sanitize_array(value, \u001B[38;5;28mself\u001B[39m\u001B[38;5;241m.\u001B[39mindex, copy\u001B[38;5;241m=\u001B[39m\u001B[38;5;28;01mTrue\u001B[39;00m, allow_2d\u001B[38;5;241m=\u001B[39m\u001B[38;5;28;01mTrue\u001B[39;00m)\n",
      "File \u001B[1;32mC:\\dev\\wdb\\WDB\\venv\\lib\\site-packages\\pandas\\core\\common.py:576\u001B[0m, in \u001B[0;36mrequire_length_match\u001B[1;34m(data, index)\u001B[0m\n\u001B[0;32m    572\u001B[0m \u001B[38;5;250m\u001B[39m\u001B[38;5;124;03m\"\"\"\u001B[39;00m\n\u001B[0;32m    573\u001B[0m \u001B[38;5;124;03mCheck the length of data matches the length of the index.\u001B[39;00m\n\u001B[0;32m    574\u001B[0m \u001B[38;5;124;03m\"\"\"\u001B[39;00m\n\u001B[0;32m    575\u001B[0m \u001B[38;5;28;01mif\u001B[39;00m \u001B[38;5;28mlen\u001B[39m(data) \u001B[38;5;241m!=\u001B[39m \u001B[38;5;28mlen\u001B[39m(index):\n\u001B[1;32m--> 576\u001B[0m     \u001B[38;5;28;01mraise\u001B[39;00m \u001B[38;5;167;01mValueError\u001B[39;00m(\n\u001B[0;32m    577\u001B[0m         \u001B[38;5;124m\"\u001B[39m\u001B[38;5;124mLength of values \u001B[39m\u001B[38;5;124m\"\u001B[39m\n\u001B[0;32m    578\u001B[0m         \u001B[38;5;124mf\u001B[39m\u001B[38;5;124m\"\u001B[39m\u001B[38;5;124m(\u001B[39m\u001B[38;5;132;01m{\u001B[39;00m\u001B[38;5;28mlen\u001B[39m(data)\u001B[38;5;132;01m}\u001B[39;00m\u001B[38;5;124m) \u001B[39m\u001B[38;5;124m\"\u001B[39m\n\u001B[0;32m    579\u001B[0m         \u001B[38;5;124m\"\u001B[39m\u001B[38;5;124mdoes not match length of index \u001B[39m\u001B[38;5;124m\"\u001B[39m\n\u001B[0;32m    580\u001B[0m         \u001B[38;5;124mf\u001B[39m\u001B[38;5;124m\"\u001B[39m\u001B[38;5;124m(\u001B[39m\u001B[38;5;132;01m{\u001B[39;00m\u001B[38;5;28mlen\u001B[39m(index)\u001B[38;5;132;01m}\u001B[39;00m\u001B[38;5;124m)\u001B[39m\u001B[38;5;124m\"\u001B[39m\n\u001B[0;32m    581\u001B[0m     )\n",
      "\u001B[1;31mValueError\u001B[0m: Length of values (1000) does not match length of index (991)"
     ]
    }
   ],
   "source": [
    "next_page = driver.find_element(By.LINK_TEXT, 'Next »')\n",
    "for x in driver.find_elements(By.XPATH,'//*[@id=\"main\"]/div/div[4]/span[1]'):\n",
    "    end = int(x.text.split(' ')[2].replace(',',''))\n",
    "\n",
    "print(end)\n",
    "\n",
    "rang = []\n",
    "film = []\n",
    "jahr = []\n",
    "fsk = []\n",
    "dauer = []\n",
    "genre = []\n",
    "bewertung = []\n",
    "regisseur = []\n",
    "stars = []\n",
    "\n",
    "while next_page:\n",
    "    movie_info = driver.find_elements(By.XPATH, '//div[@class=\"lister-item-content\"]')\n",
    "    for info in movie_info:\n",
    "        # Split the text into lines and select the second line\n",
    "        lines = info.text.split('\\n')\n",
    "        header = lines[0].split(' ')\n",
    "        rang.append(header[0])\n",
    "        jahr.append(header[-1])\n",
    "        film.append(header[1:-1])\n",
    "\n",
    "        if len(lines[1].split('|')) == 3:\n",
    "            fsk.append(lines[1].split('|')[0])\n",
    "            dauer.append(lines[1].split('|')[1])\n",
    "            genre.append(lines[1].split('|')[2])\n",
    "        elif len(lines[1].split('|')) == 2:\n",
    "            fsk.append('NaN')\n",
    "            dauer.append(lines[1].split('|')[0])\n",
    "            genre.append(lines[1].split('|')[1])\n",
    "\n",
    "        bewertung.append(lines[2].split(' ')[0])\n",
    "\n",
    "        staff = lines[-2].split(\" | \")\n",
    "        # Iterating through the list and replacing 'Director:' with an empty string\n",
    "        for i in range(len(staff)):\n",
    "            staff[i] = staff[i].replace('Director: ', '')\n",
    "            staff[i] = staff[i].replace('Stars: ', '')\n",
    "        # Append the duration to the list\n",
    "        regisseur.append(staff[0])\n",
    "        stars.append(staff[-1])\n",
    "\n",
    "    if len(rang) + 9 == end:\n",
    "        break\n",
    "    next_page = driver.find_element(By.LINK_TEXT, 'Next »')\n",
    "    next_page.click()\n",
    "\n",
    "    rang = rang[:-1]\n",
    "    jahr = jahr[:-1]\n",
    "    film = film[:-1]\n",
    "\n",
    "driver.quit()\n",
    "\n",
    "# lists to dataframe\n",
    "import pandas as pd\n",
    "df = pd.DataFrame()\n",
    "df['rang'] = rang\n",
    "df['film'] = film\n",
    "df['jahr'] = jahr\n",
    "df['fsk'] = fsk\n",
    "df['dauer'] = dauer\n",
    "df['genre'] = genre\n",
    "df['bewertung'] = bewertung\n",
    "df['regisseur'] = regisseur\n",
    "df['stars'] = stars\n",
    "df"
   ],
   "metadata": {
    "collapsed": false
   }
  },
  {
   "cell_type": "code",
   "execution_count": null,
   "outputs": [],
   "source": [],
   "metadata": {
    "collapsed": false
   }
  },
  {
   "cell_type": "code",
   "execution_count": null,
   "outputs": [],
   "source": [],
   "metadata": {
    "collapsed": false
   }
  },
  {
   "cell_type": "code",
   "execution_count": null,
   "outputs": [],
   "source": [],
   "metadata": {
    "collapsed": false
   }
  },
  {
   "cell_type": "code",
   "execution_count": null,
   "outputs": [],
   "source": [],
   "metadata": {
    "collapsed": false
   }
  }
 ],
 "metadata": {
  "kernelspec": {
   "display_name": "Python 3",
   "language": "python",
   "name": "python3"
  },
  "language_info": {
   "codemirror_mode": {
    "name": "ipython",
    "version": 2
   },
   "file_extension": ".py",
   "mimetype": "text/x-python",
   "name": "python",
   "nbconvert_exporter": "python",
   "pygments_lexer": "ipython2",
   "version": "2.7.6"
  }
 },
 "nbformat": 4,
 "nbformat_minor": 0
}
