{
 "cells": [
  {
   "cell_type": "code",
   "execution_count": null,
   "outputs": [],
   "source": [
    "#!pip install selenium\n",
    "#!pip install webdriver_manager\n",
    "from selenium import webdriver\n",
    "\n",
    "import os\n",
    "from selenium.webdriver.chrome.service import Service\n",
    "\n",
    "from selenium.webdriver.support.ui import WebDriverWait\n",
    "\n",
    "from selenium.webdriver.support import expected_conditions as EC\n",
    "from selenium.webdriver.chrome.options import Options\n",
    "from selenium.webdriver.common.by import By\n",
    "\n",
    "from bs4 import BeautifulSoup\n",
    "\n",
    "import codecs\n",
    "from selenium.webdriver.common.keys import Keys\n",
    "import re\n",
    "\n",
    "from webdriver_manager.chrome import ChromeDriverManager\n",
    "from selenium.webdriver.support.ui import Select"
   ],
   "metadata": {
    "collapsed": false,
    "pycharm": {
     "is_executing": true
    }
   }
  },
  {
   "cell_type": "code",
   "execution_count": null,
   "outputs": [],
   "source": [
    "website = 'https://www.imdb.com/search/title/?count=100&groups=top_1000&sort=user_rating'\n",
    "driver = webdriver.Chrome()\n",
    "driver.get(website)"
   ],
   "metadata": {
    "collapsed": false,
    "pycharm": {
     "is_executing": true
    }
   }
  },
  {
   "cell_type": "code",
   "execution_count": null,
   "outputs": [],
   "source": [
    "next_page = driver.find_element(By.LINK_TEXT, 'Next »')\n",
    "for x in driver.find_elements(By.XPATH,'//*[@id=\"main\"]/div/div[4]/span[1]'):\n",
    "    end = int(x.text.split(' ')[2].replace(',',''))\n",
    "rang = []\n",
    "film = []\n",
    "jahr = []\n",
    "fsk = []\n",
    "dauer = []\n",
    "genre = []\n",
    "bewertung = []\n",
    "regisseur = []\n",
    "stars = []\n",
    "\n",
    "\n",
    "while next_page:\n",
    "    headers = driver.find_elements(By.TAG_NAME, 'h3')\n",
    "    for head in headers:\n",
    "        rang.append(head.text.split(' ')[0])\n",
    "        jahr.append(head.text.split(' ')[-1])\n",
    "        film.append(head.text.split(' ')[1:-1])\n",
    "    rang = rang[:-1]\n",
    "    jahr = jahr[:-1]\n",
    "    film = film[:-1]\n",
    "    genre_infos = driver.find_elements(By.XPATH, '//p[@class=\"text-muted \"]')\n",
    "\n",
    "    for genre_info in genre_infos:\n",
    "        if len(genre_info.text.split('|')) == 3:\n",
    "            fsk.append(genre_info.text.split('|')[0])\n",
    "            dauer.append(genre_info.text.split('|')[1])\n",
    "            genre.append(genre_info.text.split('|')[2])\n",
    "        elif len(genre_info.text.split('|')) == 2:\n",
    "            fsk.append('NaN')\n",
    "            dauer.append(genre_info.text.split('|')[0])\n",
    "            genre.append(genre_info.text.split('|')[1])\n",
    "    ratings_bar =  driver.find_elements(By.CLASS_NAME, 'ratings-bar')\n",
    "\n",
    "    for rating_bar in ratings_bar:\n",
    "        bewertung.append(rating_bar.text.split(' ')[0])\n",
    "\n",
    "    find_directors = driver.find_elements(By.XPATH, '//p[contains(text(), \"Director\")]/a')\n",
    "\n",
    "    for director in find_directors:\n",
    "        regisseur.append(director.text)\n",
    "\n",
    "    find_stars = driver.find_elements(By.XPATH, '//p[contains(text(), \"Stars\")]/a')\n",
    "\n",
    "    for star in find_stars:\n",
    "        stars.append(star.text)\n",
    "\n",
    "    if len(rang)== end:\n",
    "        break\n",
    "    next_page = driver.find_element(By.LINK_TEXT, 'Next »')\n",
    "    next_page.click()\n",
    "\n",
    "driver.quit()"
   ],
   "metadata": {
    "collapsed": false,
    "pycharm": {
     "is_executing": true
    }
   }
  },
  {
   "cell_type": "code",
   "execution_count": null,
   "outputs": [],
   "source": [
    "\n",
    "# lists to dataframe\n",
    "import pandas as pd\n",
    "df = pd.DataFrame()\n",
    "df['rang'] = rang\n",
    "df['film'] = film\n",
    "df['jahr'] = jahr\n",
    "df['fsk'] = fsk\n",
    "df['dauer'] = dauer\n",
    "df['genre'] = genre\n",
    "df['bewertung'] = bewertung\n",
    "df['regisseur'] = regisseur\n",
    "df['stars'] = stars\n",
    "df"
   ],
   "metadata": {
    "collapsed": false,
    "pycharm": {
     "is_executing": true
    }
   }
  },
  {
   "cell_type": "code",
   "execution_count": null,
   "outputs": [],
   "source": [],
   "metadata": {
    "collapsed": false,
    "pycharm": {
     "is_executing": true
    }
   }
  }
 ],
 "metadata": {
  "kernelspec": {
   "display_name": "Python 3",
   "language": "python",
   "name": "python3"
  },
  "language_info": {
   "codemirror_mode": {
    "name": "ipython",
    "version": 2
   },
   "file_extension": ".py",
   "mimetype": "text/x-python",
   "name": "python",
   "nbconvert_exporter": "python",
   "pygments_lexer": "ipython2",
   "version": "2.7.6"
  }
 },
 "nbformat": 4,
 "nbformat_minor": 0
}
